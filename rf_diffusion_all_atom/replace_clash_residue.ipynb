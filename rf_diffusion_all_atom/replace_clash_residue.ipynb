{
 "cells": [
  {
   "cell_type": "code",
   "execution_count": 1,
   "metadata": {},
   "outputs": [],
   "source": [
    "import os\n",
    "import pandas as pd\n",
    "from copy import deepcopy\n",
    "from itertools import combinations, product"
   ]
  },
  {
   "cell_type": "code",
   "execution_count": 2,
   "metadata": {},
   "outputs": [],
   "source": [
    "scores = pd.read_csv('scores.csv')\n",
    "data_path = 'generated_result/CP_SS_TS_mask2_71'\n",
    "new_path = 'generated_result/CP_SS_TS_mask2_71_replace'\n",
    "os.makedirs(new_path, exist_ok=True)\n",
    "os.makedirs(f'{new_path}/1_LigandMPNN/seqs/', exist_ok=True)\n",
    "\n",
    "with open(f'{data_path}/1_LigandMPNN/seqs/0_diffusion_71.fa', 'r') as f:\n",
    "    sequences = [l.strip('\\n') for l in f.readlines() if '>0_diffusion_71' not in l][1:]"
   ]
  },
  {
   "cell_type": "code",
   "execution_count": 3,
   "metadata": {},
   "outputs": [],
   "source": [
    "replace_map = {\n",
    "    'F': ['A', 'I', 'L', 'V', 'M'],\n",
    "    'L': ['V', 'A'],\n",
    "    'R': ['A'],\n",
    "    'S': ['A'],\n",
    "    'Y': ['S', 'A']\n",
    "}\n",
    "skip_res = ['H61']"
   ]
  },
  {
   "cell_type": "code",
   "execution_count": 8,
   "metadata": {},
   "outputs": [],
   "source": [
    "new_sequence = {}\n",
    "for i, seq_id in enumerate(scores.iloc[:, 0]):\n",
    "    seq = sequences[seq_id]\n",
    "    clash_res = scores.loc[i, 'DPP_clash_indices']\n",
    "    clash_res = clash_res.strip(\"[]\").replace(\"'\", \"\").split(\", \")\n",
    "    replace_res = [r for r in clash_res if r not in skip_res]\n",
    "    for n in range(1, len(replace_res)-1):\n",
    "        for res in combinations(replace_res, n):\n",
    "            res_rep_candidates = []\n",
    "            for r in res:\n",
    "                res_name = r[0]\n",
    "                if res_name in replace_map:\n",
    "                    res_rep_candidates.append([f'{res_name}_{r[1:]}_{rep_name}' for rep_name in replace_map[res_name]])\n",
    "    \n",
    "            for reps in product(*res_rep_candidates):\n",
    "                new_seq = deepcopy(seq)\n",
    "                new_seq = list(new_seq)\n",
    "                for rep in reps:\n",
    "                    old, res_id, new = rep.split('_')\n",
    "                    new_seq[int(res_id) - 1] = new\n",
    "                new_sequence[f\"{seq_id}-{'-'.join(reps)}\"] = ''.join(new_seq)"
   ]
  },
  {
   "cell_type": "code",
   "execution_count": 9,
   "metadata": {},
   "outputs": [],
   "source": [
    "with open(f'{new_path}/1_LigandMPNN/seqs/0_diffusion_71.fa', 'w') as f:\n",
    "    for key, value in new_sequence.items():\n",
    "        f.write(f'>{key}\\n')\n",
    "        f.write(f'{value}\\n')"
   ]
  },
  {
   "cell_type": "code",
   "execution_count": null,
   "metadata": {},
   "outputs": [],
   "source": []
  }
 ],
 "metadata": {
  "kernelspec": {
   "display_name": "decompdiff",
   "language": "python",
   "name": "decompdiff"
  },
  "language_info": {
   "codemirror_mode": {
    "name": "ipython",
    "version": 3
   },
   "file_extension": ".py",
   "mimetype": "text/x-python",
   "name": "python",
   "nbconvert_exporter": "python",
   "pygments_lexer": "ipython3",
   "version": "3.8.19"
  }
 },
 "nbformat": 4,
 "nbformat_minor": 4
}
