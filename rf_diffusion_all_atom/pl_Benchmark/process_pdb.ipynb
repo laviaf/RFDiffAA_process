{
 "cells": [
  {
   "cell_type": "code",
   "execution_count": 1,
   "metadata": {},
   "outputs": [],
   "source": [
    "import numpy as np\n",
    "from rdkit import Chem\n",
    "from Bio import PDB"
   ]
  },
  {
   "cell_type": "code",
   "execution_count": 3,
   "metadata": {},
   "outputs": [],
   "source": [
    "ligand = list(Chem.SDMolSupplier('CP_SS_TS/ligand/CP_SS_TS.sdf', sanitize=False))[0]\n",
    "ligand = Chem.RemoveHs(ligand, sanitize=False)\n",
    "# ligand_idx = [ 0,  1,  3,  4,  6,  7,  8,  9, 10, 11, 12, 13, 14, 15, 16, 17, 18, 19, 20, 22, 23, 24, 25, 36]\n",
    "ligand_idx = [1,0,3,6,8]"
   ]
  },
  {
   "cell_type": "markdown",
   "metadata": {},
   "source": [
    "## Visualize ligand"
   ]
  },
  {
   "cell_type": "code",
   "execution_count": 6,
   "metadata": {},
   "outputs": [],
   "source": [
    "from rdkit import Chem\n",
    "from rdkit.Geometry import Point3D\n",
    "from rdkit.Chem import AllChem\n",
    "\n",
    "def extract_submolecule_with_positions(mol, atom_indices):\n",
    "    # Create a new editable molecule\n",
    "    editable_mol = Chem.RWMol()\n",
    "    \n",
    "    # Mapping from old to new atom indices\n",
    "    old_to_new = {}\n",
    "    \n",
    "    # Add the atoms to the new molecule and store their positions\n",
    "    conf = mol.GetConformer()\n",
    "    positions = []\n",
    "    for idx in atom_indices:\n",
    "        atom = mol.GetAtomWithIdx(idx)\n",
    "        new_idx = editable_mol.AddAtom(atom)\n",
    "        old_to_new[idx] = new_idx\n",
    "        positions.append((new_idx, conf.GetAtomPosition(idx)))\n",
    "    \n",
    "    # Convert to a regular molecule\n",
    "    new_mol = editable_mol.GetMol()\n",
    "    \n",
    "    # Create a conformer and set the positions\n",
    "    new_conf = Chem.Conformer(new_mol.GetNumAtoms())\n",
    "    for new_idx, pos in positions:\n",
    "        new_conf.SetAtomPosition(new_idx, Point3D(pos.x, pos.y, pos.z))\n",
    "    \n",
    "    new_mol.AddConformer(new_conf)\n",
    "    \n",
    "    return new_mol\n",
    "\n"
   ]
  },
  {
   "cell_type": "code",
   "execution_count": 5,
   "metadata": {},
   "outputs": [],
   "source": [
    "import numpy as np\n",
    "from rdkit import Chem\n",
    "from rdkit.Chem import AllChem, Draw\n",
    "\n",
    "def rotate_molecule(mol, rotation_matrix):\n",
    "    # Get the conformer\n",
    "    conf = mol.GetConformer()\n",
    "    \n",
    "    # Apply the rotation matrix to each atom's position\n",
    "    for i in range(mol.GetNumAtoms()):\n",
    "        pos = np.array(conf.GetAtomPosition(i))\n",
    "        new_pos = np.dot(rotation_matrix, pos)\n",
    "        conf.SetAtomPosition(i, new_pos)\n",
    "\n",
    "# Rotation matrix for rotating 45 degrees around the z-axis\n",
    "theta = np.radians(30)\n",
    "c, s = np.cos(theta), np.sin(theta)\n",
    "rotation_matrix = np.array([\n",
    "    [c, -s, 0],\n",
    "    [s, c, 0],\n",
    "    [0, 0, 1]\n",
    "])"
   ]
  },
  {
   "cell_type": "code",
   "execution_count": 7,
   "metadata": {},
   "outputs": [
    {
     "data": {
      "image/png": "[encoded data removed]",
      "text/plain": [
       "<rdkit.Chem.rdchem.Mol at 0x7fa932cfcd60>"
      ]
     },
     "execution_count": 7,
     "metadata": {},
     "output_type": "execute_result"
    }
   ],
   "source": [
    "for i, atom in enumerate(ligand.GetAtoms()):\n",
    "    # For each atom, set the property \"molAtomMapNumber\" to a custom number, let's say, the index of the atom in the molecule\n",
    "    atom.SetProp(\"molAtomMapNumber\", str(atom.GetIdx()))\n",
    "\n",
    "rotate_molecule(ligand, rotation_matrix)\n",
    "ligand"
   ]
  },
  {
   "cell_type": "code",
   "execution_count": 82,
   "metadata": {},
   "outputs": [
    {
     "data": {
      "image/png": "[encoded data removed]",
      "text/plain": [
       "<rdkit.Chem.rdchem.Mol at 0x7f99dd144510>"
      ]
     },
     "execution_count": 82,
     "metadata": {},
     "output_type": "execute_result"
    }
   ],
   "source": [
    "submol = extract_submolecule_with_positions(ligand, ligand_idx)\n",
    "rotate_molecule(submol, rotation_matrix)\n",
    "submol"
   ]
  },
  {
   "cell_type": "markdown",
   "metadata": {},
   "source": [
    "## load ref pdb"
   ]
  },
  {
   "cell_type": "code",
   "execution_count": 123,
   "metadata": {},
   "outputs": [
    {
     "name": "stdout",
     "output_type": "stream",
     "text": [
      "Atom: C1, Coordinates: [  6.473 -20.015  12.388]\n",
      "Atom: N1, Coordinates: [  6.498 -18.654  12.266]\n",
      "Atom: C2, Coordinates: [  6.658 -20.375  13.78 ]\n",
      "Atom: N2, Coordinates: [  6.138 -15.804  11.682]\n",
      "Atom: C3, Coordinates: [  6.789 -19.23   14.492]\n",
      "Atom: N3, Coordinates: [  5.628 -16.475   8.851]\n",
      "Atom: C4, Coordinates: [  6.689 -18.133  13.531]\n",
      "Atom: N4, Coordinates: [  5.884 -19.285   9.444]\n",
      "Atom: C5, Coordinates: [  6.777 -16.758  13.858]\n",
      "Atom: C6, Coordinates: [  6.534 -15.697  12.985]\n",
      "Atom: C7, Coordinates: [  6.67  -14.28   13.298]\n",
      "Atom: C8, Coordinates: [  6.347 -13.581  12.208]\n",
      "Atom: C9, Coordinates: [  6.012 -14.537  11.17 ]\n",
      "Atom: C10, Coordinates: [  5.612 -14.209   9.863]\n",
      "Atom: C11, Coordinates: [  5.444 -15.124   8.799]\n",
      "Atom: C12, Coordinates: [  5.044 -14.721   7.473]\n",
      "Atom: C13, Coordinates: [  5.    -15.849   6.723]\n",
      "Atom: C14, Coordinates: [  5.365 -16.959   7.594]\n",
      "Atom: C15, Coordinates: [  5.449 -18.339   7.206]\n",
      "Atom: C16, Coordinates: [  5.682 -19.397   8.102]\n",
      "Atom: C17, Coordinates: [  5.741 -20.816   7.738]\n",
      "Atom: C18, Coordinates: [  5.969 -21.513   8.896]\n",
      "Atom: C19, Coordinates: [  6.058 -20.548   9.953]\n",
      "Atom: C20, Coordinates: [  6.298 -20.895  11.299]\n",
      "Atom: C21, Coordinates: [  7.138 -16.396  15.284]\n",
      "Atom: C22, Coordinates: [  8.409 -16.597  15.79 ]\n",
      "Atom: C23, Coordinates: [  8.751 -16.257  17.094]\n",
      "Atom: C24, Coordinates: [  7.797 -15.706  17.895]\n",
      "Atom: C25, Coordinates: [  6.508 -15.489  17.415]\n",
      "Atom: C26, Coordinates: [  6.163 -15.828  16.105]\n",
      "Atom: C27, Coordinates: [  5.253 -18.651   5.765]\n",
      "Atom: C28, Coordinates: [  6.226 -18.356   4.805]\n",
      "Atom: C29, Coordinates: [  6.042 -18.64    3.428]\n",
      "Atom: C30, Coordinates: [  4.876 -19.239   3.036]\n",
      "Atom: C31, Coordinates: [  3.898 -19.55    3.968]\n",
      "Atom: C32, Coordinates: [  4.095 -19.253   5.315]\n",
      "Atom: MN1, Coordinates: [  6.166 -17.494  10.531]\n"
     ]
    }
   ],
   "source": [
    "pdb_file = 'SMU/7jrq_SMU.pdb'\n",
    "\n",
    "parser = PDB.PDBParser()\n",
    "structure = parser.get_structure('complex', pdb_file)\n",
    "\n",
    "atoms = []\n",
    "for model in structure:\n",
    "    for chain in model:\n",
    "        for residue in chain:\n",
    "            if not PDB.is_aa(residue):\n",
    "                ligand_atoms = [atom for atom in residue]\n",
    "                for atom in ligand_atoms:\n",
    "                    atoms.append(atom)\n",
    "                    print(f'Atom: {atom.name}, Coordinates: {atom.coord}')\n",
    "\n",
    "# ref_idx = range(len(ligand_atoms))\n",
    "ref_idx = [0,1,2,4,6]"
   ]
  },
  {
   "cell_type": "markdown",
   "metadata": {},
   "source": [
    "## draw ref ligand"
   ]
  },
  {
   "cell_type": "code",
   "execution_count": 124,
   "metadata": {},
   "outputs": [
    {
     "data": {
      "image/png": "[encoded data removed]",
      "text/plain": [
       "<rdkit.Chem.rdchem.Mol at 0x7fa9301e0270>"
      ]
     },
     "execution_count": 124,
     "metadata": {},
     "output_type": "execute_result"
    }
   ],
   "source": [
    "old_to_new = {}\n",
    "    \n",
    "editable_mol = Chem.RWMol()\n",
    "positions = []\n",
    "atoms = [atom for atom in atoms if atom.element != 'H']\n",
    "for i, atom in enumerate(atoms):\n",
    "    if i not in ref_idx:\n",
    "        continue\n",
    "    if atom.element == 'FE':\n",
    "        atom.element = 'Fe'\n",
    "        new_idx = editable_mol.AddAtom(Chem.Atom(atom.element[:2]))\n",
    "\n",
    "    elif atom.element == 'MN':\n",
    "        atom.element = 'Mn'\n",
    "        new_idx = editable_mol.AddAtom(Chem.Atom(atom.element[:2]))\n",
    "\n",
    "    else:\n",
    "        new_idx = editable_mol.AddAtom(Chem.Atom(atom.element[:1]))\n",
    "    old_to_new[i] = new_idx\n",
    "    positions.append((new_idx, atom.coord))\n",
    "\n",
    "# Convert to a regular molecule\n",
    "new_mol = editable_mol.GetMol()\n",
    "\n",
    "# Create a conformer and set the positions\n",
    "new_conf = Chem.Conformer(new_mol.GetNumAtoms())\n",
    "for new_idx, pos in positions:\n",
    "    new_conf.SetAtomPosition(new_idx, Point3D(float(pos[0]), float(pos[1]), float(pos[2])))\n",
    "\n",
    "new_mol.AddConformer(new_conf)\n",
    "new_mol"
   ]
  },
  {
   "cell_type": "code",
   "execution_count": 125,
   "metadata": {},
   "outputs": [
    {
     "data": {
      "image/png": "[encoded data removed]",
      "text/plain": [
       "<IPython.core.display.Image object>"
      ]
     },
     "execution_count": 125,
     "metadata": {},
     "output_type": "execute_result"
    }
   ],
   "source": [
    "img = Draw.MolToImage(new_mol, legend=\"Atom Indices\")\n",
    "\n",
    "# Add the atom indices directly on the image\n",
    "draw = Draw.MolDraw2DCairo(300, 300)\n",
    "draw.drawOptions().addAtomIndices = True\n",
    "draw.DrawMolecule(new_mol)\n",
    "draw.FinishDrawing()\n",
    "img = draw.GetDrawingText()\n",
    "\n",
    "# Display the image\n",
    "with open(\"molecule_with_indices.png\", \"wb\") as f:\n",
    "    f.write(img)\n",
    "\n",
    "from IPython.display import Image\n",
    "Image(filename=\"molecule_with_indices.png\")"
   ]
  },
  {
   "cell_type": "code",
   "execution_count": 122,
   "metadata": {},
   "outputs": [
    {
     "data": {
      "image/png": "[encoded data removed]",
      "text/plain": [
       "<rdkit.Chem.rdchem.Mol at 0x7fa9301e0dd0>"
      ]
     },
     "execution_count": 122,
     "metadata": {},
     "output_type": "execute_result"
    }
   ],
   "source": [
    "for i, atom in enumerate(new_mol.GetAtoms()):\n",
    "    # For each atom, set the property \"molAtomMapNumber\" to a custom number, let's say, the index of the atom in the molecule\n",
    "    if atom.GetIdx() in [0,1,2,4,6]:\n",
    "        atom.SetProp(\"molAtomMapNumber\", str(atom.GetIdx()))\n",
    "\n",
    "rotate_molecule(new_mol, rotation_matrix)\n",
    "new_mol"
   ]
  },
  {
   "cell_type": "markdown",
   "metadata": {},
   "source": [
    "## align"
   ]
  },
  {
   "cell_type": "code",
   "execution_count": 126,
   "metadata": {},
   "outputs": [],
   "source": [
    "from scipy.spatial import distance_matrix\n",
    "from scipy.optimize import linear_sum_assignment\n",
    "\n",
    "def kabsch(P, Q):\n",
    "    \"\"\"\n",
    "    The Kabsch algorithm to find the optimal rotation matrix that minimizes\n",
    "    the RMSD between two sets of points P and Q.\n",
    "    \"\"\"\n",
    "    C = np.dot(np.transpose(P), Q)\n",
    "    V, S, W = np.linalg.svd(C)\n",
    "    d = (np.linalg.det(V) * np.linalg.det(W)) < 0.0\n",
    "\n",
    "    if d:\n",
    "        S[-1] = -S[-1]\n",
    "        V[:, -1] = -V[:, -1]\n",
    "\n",
    "    U = np.dot(V, W)\n",
    "    return U\n",
    "\n",
    "pos = ligand.GetConformer().GetPositions()\n",
    "ref_pos = np.array([atom.coord for atom in atoms if atom.element[:1] != 'H'])\n",
    "lig_pos = [pos[i] for i in ligand_idx]\n",
    "pdb_pos = [ref_pos[i] for i in ref_idx]\n",
    "P = lig_pos - np.mean(lig_pos, axis=0)\n",
    "Q = pdb_pos - np.mean(pdb_pos, axis=0)\n",
    "\n",
    "# dist_matrix = distance_matrix(Q, P)\n",
    "# row_ind, col_ind = linear_sum_assignment(dist_matrix)\n",
    "# coords2_ordered = P[col_ind]\n",
    "# U = kabsch(Q, coords2_ordered)\n",
    "\n",
    "U = kabsch(P, Q)\n",
    "\n",
    "P = pos - np.mean(lig_pos, axis=0)\n",
    "sdf_coords_aligned = np.dot(P, U)\n",
    "# sdf_coords_aligned = sdf_coords_aligned - np.mean(sdf_coords_aligned, axis=0)\n",
    "sdf_coords_aligned = sdf_coords_aligned + np.mean(pdb_pos, axis=0)"
   ]
  },
  {
   "cell_type": "code",
   "execution_count": 127,
   "metadata": {},
   "outputs": [],
   "source": [
    "conf = ligand.GetConformer()\n",
    "\n",
    "for i, (x, y, z) in enumerate(sdf_coords_aligned):\n",
    "    conf.SetAtomPosition(i, Chem.rdGeometry.Point3D(x, y, z))"
   ]
  },
  {
   "cell_type": "code",
   "execution_count": 128,
   "metadata": {},
   "outputs": [],
   "source": [
    "def write_pdb(molecule, filename):\n",
    "    with open(filename, 'w') as f:\n",
    "        f.write(\"HEADER    LIGAND\\n\")\n",
    "        f.write(\"TITLE     Aligned Ligand\\n\")\n",
    "        \n",
    "        atom_index = 1\n",
    "        for atom in molecule.GetAtoms():\n",
    "            pos = molecule.GetConformer().GetAtomPosition(atom.GetIdx())\n",
    "            line = (\n",
    "                f\"ATOM  {atom_index:5d} {atom.GetSymbol():>2s}  LIG A   1    \"\n",
    "                f\"{pos.x:8.3f}{pos.y:8.3f}{pos.z:8.3f}  1.00  0.00           {atom.GetSymbol():>2s}\\n\"\n",
    "            )\n",
    "            f.write(line)\n",
    "            atom_index += 1\n",
    "\n",
    "        f.write(\"END\\n\")\n",
    "\n",
    "pdb_file = '7jrq_CP_SS_TS.pdb'\n",
    "write_pdb(ligand, pdb_file)"
   ]
  },
  {
   "cell_type": "markdown",
   "metadata": {},
   "source": [
    "merge with ori protein using pymol \\\n",
    "alter new_CP_SS_TS, type='HETATM' \\\n",
    "alter new_CP_SS_TS, resn='HBA' \\\n",
    "create merged_protein_ligand, 7o2g or new_CP_SS_TS \\\n",
    "save 7o2g_CP_SS_TS.pdb, merged_protein_ligand"
   ]
  }
 ],
 "metadata": {
  "kernelspec": {
   "display_name": "Python 3 (ipykernel)",
   "language": "python",
   "name": "python3"
  },
  "language_info": {
   "codemirror_mode": {
    "name": "ipython",
    "version": 3
   },
   "file_extension": ".py",
   "mimetype": "text/x-python",
   "name": "python",
   "nbconvert_exporter": "python",
   "pygments_lexer": "ipython3",
   "version": "3.8.19"
  }
 },
 "nbformat": 4,
 "nbformat_minor": 4
}
